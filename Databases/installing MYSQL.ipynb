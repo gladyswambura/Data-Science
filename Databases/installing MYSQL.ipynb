{
 "cells": [
  {
   "cell_type": "markdown",
   "metadata": {},
   "source": [
    "Installing MySQL\n",
    "Download Link:\n",
    "\n",
    "https://dev.mysql.com/downloads/windows/installer/8.0.html\n",
    "\n",
    "Install notes : https://www.youtube.com/watch?v=7S_tz1z_5bA\n",
    "\n",
    "Windows (x86, 32-bit), MSI Installer\n"
   ]
  }
 ],
 "metadata": {
  "language_info": {
   "name": "python"
  }
 },
 "nbformat": 4,
 "nbformat_minor": 2
}
