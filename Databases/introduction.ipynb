{
 "cells": [
  {
   "cell_type": "markdown",
   "metadata": {},
   "source": [
    "A database is a collection of data stored in a format that can easily be accessed, modified, protected and analysed.\n",
    "\n",
    "The two main types of modern databases to choose from are relational and non-relational\n",
    "\n",
    "Relational /SQL\n",
    "A relational database is a type of database that uses a structure that allows us to identify and access data in relation to another piece of data in the database.\n",
    "They have a table-based data structure, with a strict, predefined schema required.\n",
    "\n",
    "\n",
    "Non-relational/ NoSQL\n",
    "NoSQL databases, or non-relational databases, can be document based, graph databases, key-value pairs, or wide-column stores. NoSQL databases don’t require any predefined schema, allowing you to work more freely with “unstructured data.”\n",
    "\n",
    "\n",
    "DBMS (Database Management System)\n",
    "Database Management System (DBMS) is a software that is used to define, create and maintain a database and provides controlled access to the data. They are RDBMS & NoSQL Or just a software used to manage a database.\n",
    "\n",
    "Relational Database Management System\n",
    "A relational database management system (RDBMS) is a program that allows you to create, update, and administer a relational database. Most relational database management systems use the SQL language to access the database.\n",
    "\n",
    "RDBMS examples include:\n",
    "MySQL,\n",
    "PostgreSQL,\n",
    "Oracle DB\n",
    "SQL Server\n",
    "SQLite"
   ]
  }
 ],
 "metadata": {
  "language_info": {
   "name": "python"
  }
 },
 "nbformat": 4,
 "nbformat_minor": 2
}
